{
 "cells": [
  {
   "cell_type": "code",
   "execution_count": 1,
   "metadata": {},
   "outputs": [],
   "source": [
    "from scipy import integrate\n",
    "from sympy import *\n",
    "import numpy as np\n",
    "import pandas as pd\n",
    "from collections import Counter\n",
    "import math\n",
    "t = symbols('t d')"
   ]
  },
  {
   "cell_type": "code",
   "execution_count": 2,
   "metadata": {},
   "outputs": [],
   "source": [
    "def FM(A):\n",
    "    n = len(A)\n",
    "    lam,vlam = (np.linalg.eig(A))\n",
    "    k_lam = Counter(lam) # собственные числа и их кратности\n",
    "    list_b = list(var('b0 b1 b2 b3 b4 b5 b6 b7 b8 b9 b10',real = True))\n",
    "    var('t',real = True) # полиномы, переменные\n",
    "    var('lamb')\n",
    "     \n",
    "    # правая части уравнений для поиска полиномов\n",
    "    right = list_b[0]\n",
    "    for i in range(1, n):\n",
    "        right += list_b[i]*lamb**i\n",
    "    right -= exp(t*lamb)\n",
    "    # генерируем систему\n",
    "    B = []\n",
    "    i = 0\n",
    "    while i < n:\n",
    "        for x in k_lam:\n",
    "            if im(x) >= 0:\n",
    "                for r in range(k_lam[x]):\n",
    "                    d_right = right\n",
    "                    for k in range(r):\n",
    "                        d_right = diff(d_right,lamb)\n",
    "                        \n",
    "                    d_right = d_right.subs(lamb,x)\n",
    "                    if im(x) == 0:\n",
    "                        B.append(simplify(d_right))\n",
    "                    else:\n",
    "                        B.append(simplify(re(d_right)))\n",
    "                        B.append(simplify(im(d_right)))\n",
    "            i += k_lam[x]\n",
    "            \n",
    "            \n",
    "    ans, = simplify(linsolve(B,list_b))\n",
    "    An = []\n",
    "    for i in range(n):\n",
    "        Ak = np.eye(n)\n",
    "        for j in range(i):\n",
    "            Ak = np.matmul(Ak,A)\n",
    "        An.append(Ak)\n",
    "    Y = np.zeros((n,n))\n",
    "    for i in range(n):\n",
    "        Y = Y + ans[i]*Matrix(An[i])\n",
    "    Y = simplify(Y)\n",
    "    return (Y)\n",
    "    "
   ]
  },
  {
   "cell_type": "code",
   "execution_count": 4,
   "metadata": {},
   "outputs": [],
   "source": [
    "P = np.matrix([\n",
    "    [1, 1],\n",
    "    [0, 1],\n",
    "])\n",
    "Q = Matrix([\n",
    "    [0],\n",
    "    [1],\n",
    "])\n",
    "T = 1\n",
    "f = Matrix([1,1])\n",
    "Y = FM(P)\n",
    "x1 = Matrix([0, 0])\n",
    "x2 = Matrix([1, 1])"
   ]
  },
  {
   "cell_type": "code",
   "execution_count": 5,
   "metadata": {},
   "outputs": [
    {
     "data": {
      "text/latex": [
       "$\\displaystyle \\left[\\begin{matrix}1.0 e^{1.0 t} & 1.0 t e^{1.0 t}\\\\0 & 1.0 e^{1.0 t}\\end{matrix}\\right]$"
      ],
      "text/plain": [
       "Matrix([\n",
       "[1.0*exp(1.0*t), 1.0*t*exp(1.0*t)],\n",
       "[             0,   1.0*exp(1.0*t)]])"
      ]
     },
     "execution_count": 5,
     "metadata": {},
     "output_type": "execute_result"
    }
   ],
   "source": [
    "Y"
   ]
  },
  {
   "cell_type": "code",
   "execution_count": 6,
   "metadata": {},
   "outputs": [],
   "source": [
    "Y1 = simplify(Y.inv())\n",
    "B = simplify(Y1*Q)\n",
    "A = simplify(B*B.T)\n"
   ]
  },
  {
   "cell_type": "code",
   "execution_count": 7,
   "metadata": {},
   "outputs": [
    {
     "data": {
      "text/latex": [
       "$\\displaystyle \\left[\\begin{matrix}- 1.0 t e^{- 1.0 t}\\\\1.0 e^{- 1.0 t}\\end{matrix}\\right]$"
      ],
      "text/plain": [
       "Matrix([\n",
       "[-1.0*t*exp(-1.0*t)],\n",
       "[   1.0*exp(-1.0*t)]])"
      ]
     },
     "execution_count": 7,
     "metadata": {},
     "output_type": "execute_result"
    }
   ],
   "source": [
    "B"
   ]
  },
  {
   "cell_type": "code",
   "execution_count": 8,
   "metadata": {},
   "outputs": [],
   "source": [
    "YT = Y1.subs(t,T)\n"
   ]
  },
  {
   "cell_type": "code",
   "execution_count": 9,
   "metadata": {},
   "outputs": [],
   "source": [
    "A = integrate(A,(t,0,T))"
   ]
  },
  {
   "cell_type": "code",
   "execution_count": 10,
   "metadata": {},
   "outputs": [
    {
     "data": {
      "text/latex": [
       "$\\displaystyle \\left[\\begin{matrix}0\\\\0\\end{matrix}\\right]$"
      ],
      "text/plain": [
       "Matrix([\n",
       "[0],\n",
       "[0]])"
      ]
     },
     "execution_count": 10,
     "metadata": {},
     "output_type": "execute_result"
    }
   ],
   "source": [
    "x1"
   ]
  },
  {
   "cell_type": "code",
   "execution_count": 11,
   "metadata": {},
   "outputs": [
    {
     "data": {
      "text/latex": [
       "$\\displaystyle \\left[\\begin{matrix}1\\\\1\\end{matrix}\\right]$"
      ],
      "text/plain": [
       "Matrix([\n",
       "[1],\n",
       "[1]])"
      ]
     },
     "execution_count": 11,
     "metadata": {},
     "output_type": "execute_result"
    }
   ],
   "source": [
    "x2"
   ]
  },
  {
   "cell_type": "code",
   "execution_count": 12,
   "metadata": {},
   "outputs": [],
   "source": [
    "nl = YT*x2 - x1 - integrate(Y1*f,(t,0,T))"
   ]
  },
  {
   "cell_type": "code",
   "execution_count": 13,
   "metadata": {},
   "outputs": [
    {
     "data": {
      "text/latex": [
       "$\\displaystyle \\left[\\begin{matrix}-0.367879441171442\\\\-0.264241117657115\\end{matrix}\\right]$"
      ],
      "text/plain": [
       "Matrix([\n",
       "[-0.367879441171442],\n",
       "[-0.264241117657115]])"
      ]
     },
     "execution_count": 13,
     "metadata": {},
     "output_type": "execute_result"
    }
   ],
   "source": [
    "nl"
   ]
  },
  {
   "cell_type": "code",
   "execution_count": 14,
   "metadata": {},
   "outputs": [],
   "source": [
    "c = nl.T*A.inv()\n",
    "U = B.T*c.T"
   ]
  },
  {
   "cell_type": "code",
   "execution_count": 15,
   "metadata": {},
   "outputs": [
    {
     "data": {
      "text/latex": [
       "$\\displaystyle \\left[\\begin{matrix}15.3781343352501 t e^{- 1.0 t} - 5.89331686060468 e^{- 1.0 t}\\end{matrix}\\right]$"
      ],
      "text/plain": [
       "Matrix([[15.3781343352501*t*exp(-1.0*t) - 5.89331686060468*exp(-1.0*t)]])"
      ]
     },
     "execution_count": 15,
     "metadata": {},
     "output_type": "execute_result"
    }
   ],
   "source": [
    "U\n",
    "    "
   ]
  },
  {
   "cell_type": "code",
   "execution_count": null,
   "metadata": {},
   "outputs": [],
   "source": []
  },
  {
   "cell_type": "code",
   "execution_count": null,
   "metadata": {},
   "outputs": [],
   "source": []
  }
 ],
 "metadata": {
  "kernelspec": {
   "display_name": "Python 3",
   "language": "python",
   "name": "python3"
  },
  "language_info": {
   "codemirror_mode": {
    "name": "ipython",
    "version": 3
   },
   "file_extension": ".py",
   "mimetype": "text/x-python",
   "name": "python",
   "nbconvert_exporter": "python",
   "pygments_lexer": "ipython3",
   "version": "3.8.3"
  }
 },
 "nbformat": 4,
 "nbformat_minor": 4
}
