{
 "cells": [
  {
   "cell_type": "code",
   "execution_count": 1,
   "metadata": {},
   "outputs": [],
   "source": [
    "from scipy import integrate\n",
    "from sympy import *\n",
    "import numpy as np\n",
    "import pandas as pd\n",
    "from collections import Counter\n",
    "import math\n"
   ]
  },
  {
   "cell_type": "markdown",
   "metadata": {},
   "source": [
    "2.1"
   ]
  },
  {
   "cell_type": "code",
   "execution_count": 2,
   "metadata": {},
   "outputs": [],
   "source": [
    "P = np.matrix([\n",
    "    [1, -1, 0],\n",
    "    [0, 1,-1],\n",
    "    [2, 1, 1]])\n",
    "Q = np.matrix([\n",
    "    [0],\n",
    "    [0],\n",
    "    [1]])\n",
    "lam = np.array([-1,-1,-1])"
   ]
  },
  {
   "cell_type": "code",
   "execution_count": 3,
   "metadata": {},
   "outputs": [
    {
     "name": "stdout",
     "output_type": "stream",
     "text": [
      "[[ 0  0  1]\n",
      " [ 0 -1 -2]\n",
      " [ 1  1  0]]\n"
     ]
    },
    {
     "data": {
      "text/plain": [
       "3"
      ]
     },
     "execution_count": 3,
     "metadata": {},
     "output_type": "execute_result"
    }
   ],
   "source": [
    "p = P.shape[1]\n",
    "S = np.copy(P)\n",
    "for i in range(p):\n",
    "    S[:,i] = (P**(i)).dot(Q).T\n",
    "print(S)\n",
    "np.linalg.matrix_rank(S)"
   ]
  },
  {
   "cell_type": "code",
   "execution_count": 4,
   "metadata": {},
   "outputs": [],
   "source": [
    "w,v = np.linalg.eig(P)\n",
    "fi = np.poly(w)[1:]\n",
    "ksi = np.poly(lam)[1:]\n",
    "\n",
    "gam = (fi-ksi)\n"
   ]
  },
  {
   "cell_type": "code",
   "execution_count": 5,
   "metadata": {},
   "outputs": [
    {
     "name": "stdout",
     "output_type": "stream",
     "text": [
      "[-6.  1. -5.] [[ 1. -2.  1.]\n",
      " [ 1. -1. -0.]\n",
      " [ 1.  0.  0.]]\n"
     ]
    }
   ],
   "source": [
    "K = np.eye(p)\n",
    "for i in range(1,p):\n",
    "    K +=np.eye(p,k=i)*fi[i-1]\n",
    "\n",
    "A = S.dot(K)\n",
    "A = np.linalg.inv(A)\n",
    "print(gam,A)"
   ]
  },
  {
   "cell_type": "code",
   "execution_count": 6,
   "metadata": {},
   "outputs": [],
   "source": [
    "C = gam.dot(A)"
   ]
  },
  {
   "cell_type": "code",
   "execution_count": 7,
   "metadata": {},
   "outputs": [
    {
     "data": {
      "text/plain": [
       "array([-10.,  11.,  -6.])"
      ]
     },
     "execution_count": 7,
     "metadata": {},
     "output_type": "execute_result"
    }
   ],
   "source": [
    "C"
   ]
  },
  {
   "cell_type": "markdown",
   "metadata": {},
   "source": [
    "3.1"
   ]
  },
  {
   "cell_type": "code",
   "execution_count": 8,
   "metadata": {},
   "outputs": [],
   "source": [
    "P = np.matrix([\n",
    "    [-1, 0, 0,1],\n",
    "    [0, -1,1,-1],\n",
    "    [1, 1, 0,0],\n",
    "    [-1, 0, 0,0]])\n",
    "Q = np.matrix([\n",
    "    [0],\n",
    "    [0],\n",
    "    [1],\n",
    "    [0]])\n",
    "lam = np.array([-1,-2])"
   ]
  },
  {
   "cell_type": "code",
   "execution_count": 9,
   "metadata": {},
   "outputs": [
    {
     "name": "stdout",
     "output_type": "stream",
     "text": [
      "[[ 0  0  0  0]\n",
      " [ 0  1 -1  2]\n",
      " [ 1  0  1 -1]\n",
      " [ 0  0  0  0]]\n"
     ]
    }
   ],
   "source": [
    "p = P.shape[1]\n",
    "S = np.copy(P)\n",
    "for i in range(p):\n",
    "    S[:,i] = (P**(i)).dot(Q).T\n",
    "print(S)\n",
    "n = np.linalg.matrix_rank(S)\n",
    "nn = n"
   ]
  },
  {
   "cell_type": "code",
   "execution_count": 10,
   "metadata": {},
   "outputs": [
    {
     "name": "stdout",
     "output_type": "stream",
     "text": [
      "[[0 0 1 0]\n",
      " [0 1 0 0]\n",
      " [1 0 0 0]\n",
      " [0 0 0 1]]\n"
     ]
    }
   ],
   "source": [
    "E = np.eye(p)\n",
    "for i in range(n,p):\n",
    "    for j in range(p):\n",
    "        S[:,i] = E[:,j]\n",
    "        if np.linalg.matrix_rank(S) > n:\n",
    "            n+=1\n",
    "            break\n",
    "print(S)"
   ]
  },
  {
   "cell_type": "code",
   "execution_count": 11,
   "metadata": {},
   "outputs": [
    {
     "data": {
      "text/plain": [
       "matrix([[ 0.,  1.,  1.,  0.],\n",
       "        [ 1., -1.,  0., -1.],\n",
       "        [ 0.,  0., -1.,  1.],\n",
       "        [ 0.,  0., -1.,  0.]])"
      ]
     },
     "execution_count": 11,
     "metadata": {},
     "output_type": "execute_result"
    }
   ],
   "source": [
    "Pwave = np.linalg.inv(S)*P*S\n",
    "Pwave"
   ]
  },
  {
   "cell_type": "code",
   "execution_count": 12,
   "metadata": {},
   "outputs": [
    {
     "name": "stdout",
     "output_type": "stream",
     "text": [
      "[[ 1. -1.]]\n",
      "[[1. 1.]\n",
      " [0. 1.]]\n"
     ]
    }
   ],
   "source": [
    "K1 = np.eye(nn)\n",
    "p11 = (-1)*np.matrix([Pwave[p-nn-i-1,nn-1] for i in range(nn)])\n",
    "print(p11)\n",
    "for i in range(nn-1):\n",
    "    K1 += np.eye(nn,k=i+1)*p11[0,i]\n",
    "print(K1)"
   ]
  },
  {
   "cell_type": "code",
   "execution_count": 13,
   "metadata": {},
   "outputs": [
    {
     "name": "stdout",
     "output_type": "stream",
     "text": [
      "[[1. 1. 0. 0.]\n",
      " [0. 1. 0. 0.]\n",
      " [0. 0. 1. 0.]\n",
      " [0. 0. 0. 1.]]\n",
      "[[-2. -3.  0.  0.]]\n"
     ]
    }
   ],
   "source": [
    "ksi = np.poly(lam)[1:]\n",
    "gam = p11-ksi\n",
    "A = np.hstack([K1, np.zeros((nn,p-nn))])\n",
    "B = np.hstack([np.zeros((p-nn,nn)), np.eye((p-nn))])\n",
    "K = np.vstack((A,B))\n",
    "print(K)\n",
    "gam = np.hstack([gam, np.zeros((1,p-nn))])\n",
    "print(gam)"
   ]
  },
  {
   "cell_type": "code",
   "execution_count": 14,
   "metadata": {},
   "outputs": [
    {
     "data": {
      "text/plain": [
       "matrix([[ 0., -1., -2.,  0.]])"
      ]
     },
     "execution_count": 14,
     "metadata": {},
     "output_type": "execute_result"
    }
   ],
   "source": [
    "C = gam*np.linalg.inv(S.dot(K))\n",
    "C"
   ]
  },
  {
   "cell_type": "code",
   "execution_count": null,
   "metadata": {},
   "outputs": [],
   "source": []
  },
  {
   "cell_type": "code",
   "execution_count": null,
   "metadata": {},
   "outputs": [],
   "source": []
  }
 ],
 "metadata": {
  "kernelspec": {
   "display_name": "Python 3",
   "language": "python",
   "name": "python3"
  },
  "language_info": {
   "codemirror_mode": {
    "name": "ipython",
    "version": 3
   },
   "file_extension": ".py",
   "mimetype": "text/x-python",
   "name": "python",
   "nbconvert_exporter": "python",
   "pygments_lexer": "ipython3",
   "version": "3.8.3"
  }
 },
 "nbformat": 4,
 "nbformat_minor": 4
}
