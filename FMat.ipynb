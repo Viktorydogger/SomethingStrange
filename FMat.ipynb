{
 "cells": [
  {
   "cell_type": "code",
   "execution_count": 1,
   "metadata": {},
   "outputs": [],
   "source": [
    "import sympy as sp\n",
    "import numpy as np\n",
    "import pandas as pd\n",
    "from collections import Counter\n",
    "import math\n",
    "\n",
    "\n",
    "    "
   ]
  },
  {
   "cell_type": "code",
   "execution_count": 14,
   "metadata": {},
   "outputs": [],
   "source": [
    "def FM(A):\n",
    "    n = len(A)\n",
    "    lam,vlam = (np.linalg.eig(A))\n",
    "    for i in range(len(lam)):\n",
    "        lam[i] = round(lam[i],5)\n",
    "    k_lam = Counter(lam) # собственные числа и их кратности\n",
    "    print(lam,k_lam)\n",
    "    list_b = list(sp.var('b0 b1 b2 b3 b4 b5 b6 b7 b8 b9 b10',real = True))\n",
    "    sp.var('t',real = True) # полиномы, переменные\n",
    "    sp.var('lamb')\n",
    "     \n",
    "    # правая части уравнений для поиска полиномов\n",
    "    right = list_b[0]\n",
    "    for i in range(1, n):\n",
    "        right += list_b[i]*lamb**i\n",
    "    right -= sp.exp(t*lamb)\n",
    "    # генерируем систему\n",
    "    B = []\n",
    "    i = 0\n",
    "    while i < n:\n",
    "        for x in k_lam:\n",
    "            if sp.im(x) >= 0:\n",
    "                for r in range(k_lam[x]):\n",
    "                    d_right = right\n",
    "                    for k in range(r):\n",
    "                        d_right = sp.diff(d_right,lamb)\n",
    "                        \n",
    "                    d_right = d_right.subs(lamb,x)\n",
    "                    if sp.im(x) == 0:\n",
    "                        B.append(sp.simplify(d_right))\n",
    "                    else:\n",
    "                        B.append(sp.simplify(sp.re(d_right)))\n",
    "                        B.append(sp.simplify(sp.im(d_right)))\n",
    "            i += k_lam[x]\n",
    "            \n",
    "            \n",
    "    ans, = sp.simplify(sp.linsolve(B,list_b))\n",
    "    An = []\n",
    "    for i in range(n):\n",
    "        Ak = np.eye(n)\n",
    "        for j in range(i):\n",
    "            Ak = np.matmul(Ak,A)\n",
    "        An.append(Ak)\n",
    "    Y = np.zeros((n,n))\n",
    "    for i in range(n):\n",
    "        Y = Y + ans[i]*sp.Matrix(An[i])\n",
    "    Y = sp.simplify(Y)\n",
    "    return (Y)"
   ]
  },
  {
   "cell_type": "code",
   "execution_count": 16,
   "metadata": {},
   "outputs": [
    {
     "name": "stdout",
     "output_type": "stream",
     "text": [
      "[0. 0. 0.] Counter({0.0: 3})\n"
     ]
    },
    {
     "data": {
      "text/latex": [
       "$\\displaystyle \\left[\\begin{matrix}1.0 & 1.0 t & 0.5 t^{2}\\\\0 & 1.0 & 1.0 t\\\\0 & 0 & 1.0\\end{matrix}\\right]$"
      ],
      "text/plain": [
       "Matrix([\n",
       "[1.0, 1.0*t, 0.5*t**2],\n",
       "[  0,   1.0,    1.0*t],\n",
       "[  0,     0,      1.0]])"
      ]
     },
     "execution_count": 16,
     "metadata": {},
     "output_type": "execute_result"
    }
   ],
   "source": [
    "A = [[0,1,0],[0,0,1],[0,0,0]]\n",
    "FM(A)"
   ]
  },
  {
   "cell_type": "markdown",
   "metadata": {},
   "source": [
    "Построение программного управления"
   ]
  },
  {
   "cell_type": "code",
   "execution_count": 5,
   "metadata": {},
   "outputs": [],
   "source": [
    "def PrU(P,Q,Y,f,x0,x1,Time):\n",
    "    Yinv = np.linalg.inv(Y)\n",
    "    B = Yinv*Q\n",
    "    A = sp.integrate(B*B.T,t)\n",
    "    A = ()\n",
    "    nl = Yinv*x1 - x0 - sp.integrate(Yinv*f,t)"
   ]
  },
  {
   "cell_type": "code",
   "execution_count": null,
   "metadata": {},
   "outputs": [],
   "source": []
  }
 ],
 "metadata": {
  "kernelspec": {
   "display_name": "Python 3",
   "language": "python",
   "name": "python3"
  },
  "language_info": {
   "codemirror_mode": {
    "name": "ipython",
    "version": 3
   },
   "file_extension": ".py",
   "mimetype": "text/x-python",
   "name": "python",
   "nbconvert_exporter": "python",
   "pygments_lexer": "ipython3",
   "version": "3.8.3"
  }
 },
 "nbformat": 4,
 "nbformat_minor": 4
}
